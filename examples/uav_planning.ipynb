{
 "cells": [
  {
   "cell_type": "code",
   "execution_count": null,
   "metadata": {},
   "outputs": [],
   "source": [
    "%load_ext autoreload\n",
    "%autoreload 2\n",
    "\n",
    "import os\n",
    "import shutil\n",
    "import pickle\n",
    "import time\n",
    "import pprint\n",
    "import numpy as np\n",
    "import matplotlib.pyplot as plt\n",
    "from scipy.spatial import ConvexHull\n",
    "from IPython.display import SVG\n",
    "\n",
    "from pydrake.examples.quadrotor import QuadrotorGeometry\n",
    "from pydrake.geometry import MeshcatVisualizer, Rgba, StartMeshcat\n",
    "from pydrake.geometry.optimization import HPolyhedron, VPolytope\n",
    "from pydrake.multibody.plant import AddMultibodyPlantSceneGraph\n",
    "from pydrake.multibody.parsing import Parser\n",
    "from pydrake.perception import PointCloud\n",
    "from pydrake.solvers.gurobi import GurobiSolver\n",
    "from pydrake.solvers.mosek import MosekSolver\n",
    "from pydrake.systems.analysis import Simulator\n",
    "from pydrake.systems.framework import DiagramBuilder\n",
    "\n",
    "from gcs.bezier import BezierGCS\n",
    "from reproduction.uav.helpers import FlatnessInverter\n",
    "from reproduction.uav.building_generation import *\n",
    "from reproduction.util import *\n",
    "\n",
    "g_lic = GurobiSolver.AcquireLicense()\n",
    "m_lic = MosekSolver.AcquireLicense()"
   ]
  },
  {
   "cell_type": "code",
   "execution_count": null,
   "metadata": {},
   "outputs": [],
   "source": [
    "# Start the visualizer (run this cell only once, each instance consumes a port)\n",
    "meshcat = StartMeshcat()\n",
    "\n",
    "meshcat.SetProperty(\"/Grid\", \"visible\", False)\n",
    "meshcat.SetProperty(\"/Axes\", \"visible\", False)\n",
    "meshcat.SetProperty(\"/Lights/AmbientLight/<object>\", \"intensity\", 0.8)\n",
    "meshcat.SetProperty(\"/Lights/PointLightNegativeX/<object>\", \"intensity\", 0)\n",
    "meshcat.SetProperty(\"/Lights/PointLightPositiveX/<object>\", \"intensity\", 0)"
   ]
  },
  {
   "cell_type": "markdown",
   "metadata": {},
   "source": [
    "# Generate Building and Plan Through"
   ]
  },
  {
   "cell_type": "code",
   "execution_count": null,
   "metadata": {},
   "outputs": [],
   "source": [
    "start = np.array([-1, -1])\n",
    "goal = np.array([2, 1])\n",
    "building_shape = (3, 3)\n",
    "start_pose = np.r_[(start-start)*5, 1.]\n",
    "goal_pose = np.r_[(goal-start)*5., 1.]\n",
    "\n",
    "# Generate a random building\n",
    "np.random.seed(3)\n",
    "grid, outdoor_edges, wall_edges = generate_grid_world(shape=building_shape, start=start, goal=goal)\n",
    "regions = compile_sdf(FindModelFile(\"models/room_gen/building.sdf\"), grid, start, goal, outdoor_edges, wall_edges)"
   ]
  },
  {
   "cell_type": "code",
   "execution_count": null,
   "metadata": {},
   "outputs": [],
   "source": [
    "# Build the GCS optimization\n",
    "gcs = BezierGCS(regions, order=7, continuity=4, hdot_min=1e-3, full_dim_overlap=True)\n",
    "\n",
    "gcs.addTimeCost(1e-3)\n",
    "gcs.addPathLengthCost(1)\n",
    "gcs.addVelocityLimits(-10 * np.ones(3), 10 * np.ones(3))\n",
    "regularization = 1e-3\n",
    "gcs.addDerivativeRegularization(regularization, regularization, 2)\n",
    "gcs.addDerivativeRegularization(regularization, regularization, 3)\n",
    "gcs.addDerivativeRegularization(regularization, regularization, 4)\n",
    "gcs.addSourceTarget(start_pose, goal_pose, zero_deriv_boundary=3)\n",
    "\n",
    "gcs.setPaperSolverOptions()\n",
    "gcs.setSolver(MosekSolver())\n",
    "\n",
    "# Solve GCS\n",
    "trajectory = gcs.SolvePath(True, verbose=False, preprocessing=True)[0]"
   ]
  },
  {
   "cell_type": "markdown",
   "metadata": {},
   "source": [
    "# Visualized Trajectory"
   ]
  },
  {
   "cell_type": "code",
   "execution_count": null,
   "metadata": {},
   "outputs": [],
   "source": [
    "view_regions = False\n",
    "track_uav = False\n",
    "\n",
    "# Build and run Diagram\n",
    "builder = DiagramBuilder()\n",
    "plant, scene_graph = AddMultibodyPlantSceneGraph(builder, time_step=0.0)\n",
    "\n",
    "parser = Parser(plant, scene_graph)\n",
    "parser.package_map().Add(\"gcs\", GcsDir())\n",
    "model_id = parser.AddModelFromFile(FindModelFile(\"models/room_gen/building.sdf\"))\n",
    "\n",
    "plant.Finalize()\n",
    "\n",
    "meshcat_cpp = MeshcatVisualizer.AddToBuilder(builder, scene_graph, meshcat)\n",
    "\n",
    "\n",
    "animator = meshcat_cpp.StartRecording()\n",
    "if not track_uav:\n",
    "    animator = None\n",
    "traj_system = builder.AddSystem(FlatnessInverter(trajectory, animator))\n",
    "quad = QuadrotorGeometry.AddToBuilder(builder, traj_system.get_output_port(0), scene_graph)\n",
    "\n",
    "diagram = builder.Build()\n",
    "\n",
    "# Set up a simulator to run this diagram\n",
    "simulator = Simulator(diagram)\n",
    "simulator.set_target_realtime_rate(1.0)\n",
    "\n",
    "meshcat.Delete()\n",
    "\n",
    "if view_regions:\n",
    "    for ii in range(len(regions)):\n",
    "        v = VPolytope(regions[ii])\n",
    "        meshcat.SetTriangleMesh(\"iris/region_\" + str(ii), v.vertices(),\n",
    "                                ConvexHull(v.vertices().T).simplices.T, Rgba(0.698, 0.67, 1, 0.4))\n",
    "        \n",
    "# Simulate\n",
    "end_time = trajectory.end_time()\n",
    "simulator.AdvanceTo(end_time+0.05)\n",
    "meshcat_cpp.PublishRecording()"
   ]
  },
  {
   "cell_type": "code",
   "execution_count": null,
   "metadata": {},
   "outputs": [],
   "source": [
    "with open (os.path.join(GcsDir(), \"data/uav_example/trajectory.html\"), \"w\") as f:\n",
    "    f.write(meshcat.StaticHtml())"
   ]
  },
  {
   "cell_type": "code",
   "execution_count": null,
   "metadata": {},
   "outputs": [],
   "source": []
  }
 ],
 "metadata": {
  "kernelspec": {
   "display_name": "Python 3",
   "language": "python",
   "name": "python3"
  },
  "language_info": {
   "codemirror_mode": {
    "name": "ipython",
    "version": 3
   },
   "file_extension": ".py",
   "mimetype": "text/x-python",
   "name": "python",
   "nbconvert_exporter": "python",
   "pygments_lexer": "ipython3",
   "version": "3.8.10"
  }
 },
 "nbformat": 4,
 "nbformat_minor": 2
}
