{
 "cells": [
  {
   "cell_type": "code",
   "execution_count": null,
   "metadata": {},
   "outputs": [],
   "source": [
    "%load_ext autoreload\n",
    "%autoreload 2\n",
    "import os\n",
    "import time\n",
    "import pickle\n",
    "import numpy as np\n",
    "import pandas as pd\n",
    "import multiprocessing as mp\n",
    "from IPython.display import HTML, SVG\n",
    "\n",
    "from pydrake.geometry import MeshcatVisualizer, MeshcatVisualizerParams, Role, StartMeshcat\n",
    "from pydrake.geometry.optimization import IrisInConfigurationSpace, IrisOptions\n",
    "from pydrake.multibody.parsing import LoadModelDirectives, Parser, ProcessModelDirectives\n",
    "from pydrake.multibody.plant import AddMultibodyPlantSceneGraph\n",
    "from pydrake.all import SimpleRRTPlannerState\n",
    "from pydrake.solvers import GurobiSolver, MosekSolver\n",
    "from pydrake.systems.framework import DiagramBuilder\n",
    "from pydrake.all import Simulator\n",
    "\n",
    "from gcs.linear import LinearGCS\n",
    "from gcs.rounding import randomForwardPathSearch\n",
    "from reproduction.prm_comparison.planning import PresplinedPRM\n",
    "from pydrake.all import (PRMPlannerCreationParameters, BiRRTPlannerParameters, PRMPlannerCreationParameters, PRMPlannerQueryParameters, PathProcessorParameters)\n",
    "from reproduction.prm_comparison.helpers import (\n",
    "    ForwardKinematics,\n",
    "    get_traj_length,\n",
    "    InverseKinematics,\n",
    "    is_traj_confined,\n",
    "    make_traj,\n",
    "    visualize_trajectory,\n",
    "    plot_results,\n",
    "    make_result_table,\n",
    ")\n",
    "\n",
    "from pydrake.all import PRMPlanner,BiRRTPlanner\n",
    "from itertools import combinations\n",
    "\n",
    "from pydrake.all import ChangeOmpNumThreadsWrapper,GetNumOmpThreads\n",
    "\n",
    "from reproduction.util import *\n",
    "import matplotlib.pyplot as plt\n",
    "\n",
    "\n",
    "GurobiSolver.AcquireLicense()\n",
    "MosekSolver.AcquireLicense()"
   ]
  },
  {
   "cell_type": "code",
   "execution_count": null,
   "metadata": {},
   "outputs": [],
   "source": [
    "# Start the visualizer (run this cell only once, each instance consumes a port)\n",
    "meshcat = StartMeshcat()"
   ]
  },
  {
   "cell_type": "code",
   "execution_count": null,
   "metadata": {},
   "outputs": [],
   "source": [
    "SEED = 0\n",
    "np.random.seed(SEED)"
   ]
  },
  {
   "cell_type": "code",
   "execution_count": null,
   "metadata": {
    "scrolled": false
   },
   "outputs": [],
   "source": [
    "meshcat.Delete()\n",
    "builder = DiagramBuilder()\n",
    "plant, scene_graph = AddMultibodyPlantSceneGraph(builder, time_step=0.0)\n",
    "parser = Parser(plant)\n",
    "parser.package_map().Add(\"gcs\", GcsDir())\n",
    "\n",
    "directives_file = FindModelFile(\"models/iiwa14_welded_gripper.yaml\")\n",
    "directives = LoadModelDirectives(directives_file)\n",
    "models = ProcessModelDirectives(directives, plant, parser)\n",
    "[iiwa, wsg, shelf, binR, binL, table] =  models\n",
    "iiwa_idx = plant.GetModelInstanceByName(\"iiwa\")\n",
    "wsg_idx = plant.GetModelInstanceByName(\"wsg\")\n",
    "\n",
    " \n",
    "\n",
    "plant.Finalize()\n",
    "\n",
    "meshcat_params = MeshcatVisualizerParams()\n",
    "meshcat_params.delete_on_initialization_event = False\n",
    "meshcat_params.role = Role.kIllustration\n",
    "# meshcat_params.role = Role.kProximity\n",
    "meshcat_cpp = MeshcatVisualizer.AddToBuilder(builder, scene_graph, meshcat, meshcat_params)\n",
    "\n",
    "diagram = builder.Build()\n",
    "\n",
    "context = diagram.CreateDefaultContext()\n",
    "#plant_context = plant.GetMyContextFromRoot(context)\n",
    "plant_context = plant.GetMyMutableContextFromRoot(context)\n",
    "q0 =[0, 0.3, 0, -1.8, 0, 1, 1.57]\n",
    "plant.SetPositions(plant_context, q0)\n",
    "diagram.ForcedPublish(context)"
   ]
  },
  {
   "attachments": {},
   "cell_type": "markdown",
   "metadata": {},
   "source": [
    "## IRIS Seeds"
   ]
  },
  {
   "cell_type": "code",
   "execution_count": null,
   "metadata": {},
   "outputs": [],
   "source": [
    "milestones =  {\"AS\": [[0.75, 0, 0.9],    [0, -np.pi, -np.pi/2]],   \n",
    "                \"TS\":    [[0.75, 0, 0.67],   [0, -np.pi, -np.pi/2]],   \n",
    "                \"CS\": [[0.75, 0, 0.41],   [0, -np.pi, -np.pi/2]],       \n",
    "                \"LB\":    [[0.0,  0.6, 0.22], [np.pi/2, np.pi, 0]], \n",
    "                \"RB\":   [[0.0, -0.6, 0.22], [np.pi/2, np.pi, np.pi]]}\n",
    "\n",
    "additional_seed_points = {\"C\":np.array([0, 0.2, 0, -2.09, 0, -0.3, np.pi/2]), \n",
    "                          \"L\": np.array([0.8, 0.7, 0, -1.6, 0, 0, np.pi/2]),\n",
    "                          \"R\":np.array([-0.8, 0.7, 0, -1.6, 0, 0, np.pi/2])} \n",
    "\n",
    "q0 =[0, 0.3, 0, -1.8, 0, 1, 1.57]\n",
    "milestone_configurations =  {name: InverseKinematics(q0, trans, rot) for name, (trans, rot) in milestones.items()}\n",
    "\n",
    "seed_points = {**milestone_configurations, **additional_seed_points}"
   ]
  },
  {
   "attachments": {},
   "cell_type": "markdown",
   "metadata": {},
   "source": [
    "# Generate IRIS Regions\n",
    "### via manual seeds"
   ]
  },
  {
   "cell_type": "code",
   "execution_count": null,
   "metadata": {},
   "outputs": [],
   "source": [
    "iris_options = IrisOptions()\n",
    "iris_options.require_sample_point_is_contained = True\n",
    "iris_options.iteration_limit = 10\n",
    "iris_options.termination_threshold = -1\n",
    "iris_options.relative_termination_threshold = 0.02\n",
    "iris_options.num_collision_infeasible_samples = 1\n",
    "iris_options.random_seed = SEED\n",
    "CORE_CNT = mp.cpu_count() # you may edit this"
   ]
  },
  {
   "cell_type": "code",
   "execution_count": null,
   "metadata": {
    "scrolled": true
   },
   "outputs": [],
   "source": [
    "def calcRegion(seed, verbose):\n",
    "    start_time = time.time()\n",
    "    context = diagram.CreateDefaultContext()\n",
    "    plant_context = plant.GetMyContextFromRoot(context)\n",
    "    plant.SetPositions(plant_context, seed)\n",
    "    try:\n",
    "        hpoly = IrisInConfigurationSpace(plant, plant_context, iris_options)\n",
    "    except Exception as e:\n",
    "        print(f\"Seed: {seed} failed with error: {e}\")\n",
    "        return None\n",
    "    print(\"Seed:\", seed, \"\\tTime:\", time.time() - start_time, flush=True)\n",
    "    return hpoly\n",
    "\n",
    "def generateRegions(seed_points, verbose = True):\n",
    "    seeds = list(seed_points.values()) if type(seed_points) is dict else seed_points\n",
    "    regions = []\n",
    "    loop_time = time.time()\n",
    "    with mp.Pool(processes = min(CORE_CNT, len(seed_points))) as pool:\n",
    "        regions = pool.starmap(calcRegion, [[seed, verbose] for seed in seeds])\n",
    "    \n",
    "    if verbose:\n",
    "        print(\"Loop time:\", time.time() - loop_time)\n",
    "    \n",
    "    if type(seed_points) is dict:\n",
    "        return dict(list(zip(seed_points.keys(), regions)))\n",
    "    \n",
    "    return regions"
   ]
  },
  {
   "cell_type": "code",
   "execution_count": null,
   "metadata": {
    "scrolled": true
   },
   "outputs": [],
   "source": [
    "regions = generateRegions(seed_points)"
   ]
  },
  {
   "attachments": {},
   "cell_type": "markdown",
   "metadata": {},
   "source": [
    "## Or load pre-generated regions"
   ]
  },
  {
   "cell_type": "code",
   "execution_count": null,
   "metadata": {},
   "outputs": [],
   "source": [
    "#load regions\n",
    "#with open(os.path.join(GcsDir(), \"data/prm_comparison/IRIS.reg\"), \"rb\") as f:\n",
    "with open(\"./IRIS_new.reg\", \"rb\") as f:\n",
    "    regions = pickle.load(f)"
   ]
  },
  {
   "cell_type": "code",
   "execution_count": null,
   "metadata": {},
   "outputs": [],
   "source": [
    "gcs = LinearGCS(regions)\n",
    "SVG(gcs.VisualizeGraph()) "
   ]
  },
  {
   "attachments": {},
   "cell_type": "markdown",
   "metadata": {},
   "source": [
    "# PRM"
   ]
  },
  {
   "cell_type": "code",
   "execution_count": null,
   "metadata": {},
   "outputs": [],
   "source": [
    "prm_parameters = PRMPlannerCreationParameters()\n",
    "prm_parameters.roadmap_size = 10000 \n",
    "prm_parameters.num_neighbors = 5\n",
    "prm_parameters.max_valid_sample_tries = 100\n",
    "prm_parameters.parallelize = True \n",
    "\n",
    "birrt_parameters = BiRRTPlannerParameters()\n",
    "birrt_parameters.tree_sampling_bias = 0.5\n",
    "birrt_parameters.p_switch_trees = 0.25\n",
    "birrt_parameters.time_limit = 120.0\n",
    "birrt_parameters.connection_tolerance = 1e-5\n",
    "birrt_parameters.prng_seed = SEED\n",
    "birrt_parameters.parallelize_nearest_neighbor = True\n",
    "\n",
    "query_parameters = PRMPlannerQueryParameters()\n",
    "query_parameters.num_neighbors = 5\n",
    "query_parameters.parallelize = True\n",
    "\n",
    "postprocessing_parameters = PathProcessorParameters()\n",
    "postprocessing_parameters.max_smoothing_shortcut_fraction = 1.0\n",
    "postprocessing_parameters.resampled_state_interval = 0.2\n",
    "postprocessing_parameters.prng_seed = SEED\n",
    "postprocessing_parameters.max_smoothing_iterations = 200\n",
    "postprocessing_parameters.max_failed_smoothing_iterations = 200\n",
    "postprocessing_parameters.max_backtracking_steps = 0\n",
    "postprocessing_parameters.use_shortcut_smoothing = True\n",
    "postprocessing_parameters.resample_before_smoothing = True"
   ]
  },
  {
   "cell_type": "code",
   "execution_count": null,
   "metadata": {},
   "outputs": [],
   "source": [
    "ChangeOmpNumThreadsWrapper(120)"
   ]
  },
  {
   "cell_type": "code",
   "execution_count": null,
   "metadata": {},
   "outputs": [],
   "source": [
    "prm = PresplinedPRM(edge_step_size = 0.05,\n",
    "                    env_padding = 0.00,\n",
    "                    self_padding = 0.00,\n",
    "                    propagation_step_size = 0.5,\n",
    "                    grid_size = [1.8, 2.4, 1.6],\n",
    "                    grid_resolution=0.04,\n",
    "                    seed = SEED)"
   ]
  },
  {
   "attachments": {},
   "cell_type": "markdown",
   "metadata": {},
   "source": [
    "## Load Roadmap"
   ]
  },
  {
   "cell_type": "code",
   "execution_count": null,
   "metadata": {},
   "outputs": [],
   "source": [
    "with open(\"./roadmap.rmp\", 'rb') as f:\n",
    "    prm.roadmap = pickle.load(f)"
   ]
  },
  {
   "attachments": {},
   "cell_type": "markdown",
   "metadata": {},
   "source": [
    "## Generate PRM"
   ]
  },
  {
   "cell_type": "code",
   "execution_count": null,
   "metadata": {},
   "outputs": [],
   "source": [
    "ChangeOmpNumThreadsWrapper(1)"
   ]
  },
  {
   "cell_type": "code",
   "execution_count": null,
   "metadata": {},
   "outputs": [],
   "source": [
    "## BiRRT connect \n",
    "splined_path = []\n",
    "birrt_times = []\n",
    "for start, goal in combinations(seed_points.values(), 2):\n",
    "    # BiRRT connect\n",
    "    result, runtime = BiRRTPlanner.TimedPlan(\n",
    "        start,\n",
    "        goal,\n",
    "        birrt_parameters,\n",
    "        prm.planning_space,\n",
    "    )\n",
    "    birrt_times.append(runtime)\n",
    "    if result.has_solution():\n",
    "        splined_path += result.path()\n",
    "print(f'Spline number of nodes: {len(splined_path)}')\n",
    "print(f\"Birrt time: {round(sum(birrt_times), 3)} seconds, {round(max(birrt_times), 3)} seconds max\")"
   ]
  },
  {
   "cell_type": "code",
   "execution_count": null,
   "metadata": {},
   "outputs": [],
   "source": [
    "ChangeOmpNumThreadsWrapper(120)"
   ]
  },
  {
   "cell_type": "code",
   "execution_count": null,
   "metadata": {},
   "outputs": [],
   "source": [
    "splined_path = np.vstack(splined_path)\n",
    "prm.roadmap, prm_runtime = PRMPlanner.TimedBuildRoadmap(\n",
    "    prm_parameters, splined_path, prm.planning_space\n",
    ")\n",
    "print(f\"PRM run time: {round(prm_runtime, 3)} seconds\")"
   ]
  },
  {
   "cell_type": "markdown",
   "metadata": {},
   "source": [
    "# Run Comparison"
   ]
  },
  {
   "cell_type": "code",
   "execution_count": null,
   "metadata": {},
   "outputs": [],
   "source": [
    "solver_tolerance = 1e-3 \n",
    "def getGCSPath(sequence, verbose=False):\n",
    "    path = [sequence[0]]\n",
    "    run_time = 0.0\n",
    "    for start_pt, goal_pt in zip(sequence[:-1], sequence[1:]):\n",
    "        gcs = LinearGCS(regions)\n",
    "        gcs.addSourceTarget(start_pt, goal_pt)\n",
    "        gcs.setRoundingStrategy(randomForwardPathSearch,\n",
    "                                max_paths=10,\n",
    "                                max_trials=100,\n",
    "                                seed=SEED)\n",
    "        gcs.setSolver(MosekSolver())\n",
    "        gcs.options.solver_options.SetOption(MosekSolver.id(), 'MSK_DPAR_INTPNT_TOL_PFEAS', solver_tolerance)\n",
    "        gcs.options.solver_options.SetOption(MosekSolver.id(), 'MSK_DPAR_INTPNT_TOL_DFEAS', solver_tolerance)\n",
    "        gcs.options.solver_options.SetOption(MosekSolver.id(), 'MSK_DPAR_INTPNT_TOL_REL_GAP', solver_tolerance)\n",
    "        gcs.options.solver_options.SetOption(MosekSolver.id(), 'MSK_DPAR_INTPNT_TOL_INFEAS', solver_tolerance)\n",
    "        waypoints, results_dict = gcs.SolvePath(rounding=True,\n",
    "                                                verbose=False,\n",
    "                                                preprocessing=True)\n",
    "        if waypoints is None:\n",
    "            if verbose:\n",
    "                print(f\"Failed between {start_pt} and {goal_pt}\")\n",
    "            return None\n",
    "\n",
    "        run_time += results_dict[\"relaxation_solver_time\"]\n",
    "        run_time += results_dict[\n",
    "            \"max_rounded_solver_time\"]  # only take the max since rounding can be parallelized\n",
    "        if verbose:\n",
    "            print(\n",
    "                \"Convex Relaxation\", round(results_dict[\"relaxation_cost\"],\n",
    "                                           3), \"min hard result cost\",\n",
    "                round(results_dict[\"rounded_cost\"], 3), \"Gap\",\n",
    "                round((results_dict[\"rounded_cost\"] -\n",
    "                       results_dict[\"relaxation_cost\"]) /\n",
    "                      results_dict[\"relaxation_cost\"], 3))\n",
    "\n",
    "        path += waypoints.T[1:].tolist()\n",
    "    return np.stack(path).T, run_time"
   ]
  },
  {
   "cell_type": "markdown",
   "metadata": {},
   "source": [
    "# Demonstration"
   ]
  },
  {
   "cell_type": "code",
   "execution_count": null,
   "metadata": {},
   "outputs": [],
   "source": [
    "demonstration = {\n",
    "    \"AS\": [[0.75, -0.12, 0.9], [0, -np.pi, -np.pi / 2]],\n",
    "    \"TS\": [[0.75, 0.12, 0.67], [0, -np.pi, -np.pi / 2]],\n",
    "    \"CS\": [[0.75, 0.12, 0.41], [0, -np.pi, -np.pi / 2]],\n",
    "    \"LB\": [[0.08, 0.6, 0.22], [np.pi / 2, np.pi, 0]],\n",
    "    \"RB\": [[-0.08, -0.6, 0.22], [np.pi / 2, np.pi, np.pi]]\n",
    "}\n",
    "\n",
    "q0 = [0, 0.3, 0, -1.8, 0, 1, 1.57]\n",
    "demonstration_configurations = {\n",
    "    name: InverseKinematics(q0, trans, rot)\n",
    "    for name, (trans, rot) in demonstration.items()\n",
    "}"
   ]
  },
  {
   "cell_type": "code",
   "execution_count": null,
   "metadata": {},
   "outputs": [],
   "source": [
    "task_1 = [demonstration_configurations[\"AS\"],\n",
    "          demonstration_configurations[\"TS\"]]\n",
    "\n",
    "task_2 = [demonstration_configurations[\"TS\"],\n",
    "          demonstration_configurations[\"CS\"]]\n",
    "\n",
    "task_3 = [demonstration_configurations[\"CS\"],\n",
    "          demonstration_configurations[\"LB\"]]\n",
    "\n",
    "task_4 = [demonstration_configurations[\"LB\"],\n",
    "          demonstration_configurations[\"RB\"]]\n",
    "\n",
    "task_5 = [demonstration_configurations[\"RB\"],\n",
    "          demonstration_configurations[\"AS\"]]\n",
    "\n",
    "task_circle = [demonstration_configurations[\"AS\"],\n",
    "               demonstration_configurations[\"TS\"],\n",
    "               demonstration_configurations[\"CS\"],\n",
    "               demonstration_configurations[\"LB\"],\n",
    "               demonstration_configurations[\"RB\"],\n",
    "               demonstration_configurations[\"AS\"]]"
   ]
  },
  {
   "cell_type": "code",
   "execution_count": null,
   "metadata": {
    "scrolled": false
   },
   "outputs": [],
   "source": [
    "execute_task = task_circle\n",
    "GCS_path, GCS_time = getGCSPath(execute_task, verbose=True)\n",
    "linear_gcs_traj = make_traj(GCS_path, speed=2)\n",
    "print(\n",
    "    f\"Linear GCS length: {round(get_traj_length(linear_gcs_traj), 3)}, and time: {round(GCS_time, 3)} s\"\n",
    ")\n",
    "\n",
    "PRM_path, PRM_time = prm.plan(execute_task, query_parameters)\n",
    "prm_traj = make_traj(PRM_path, speed=2)\n",
    "print(\n",
    "    f\"PRM length: {round(get_traj_length(prm_traj), 3)}, and time: {round(PRM_time, 3)} s\"\n",
    ")\n",
    "\n",
    "sPRM_path, sPRM_time = prm.plan(execute_task, query_parameters,\n",
    "                                postprocessing_parameters)\n",
    "sprm_traj = make_traj(sPRM_path, speed=2)\n",
    "print(\n",
    "    f\"Smoothed PRM length: {round(get_traj_length(sprm_traj), 3)}, and time: {round(sPRM_time, 3)} s\"\n",
    ")\n"
   ]
  },
  {
   "cell_type": "code",
   "execution_count": null,
   "metadata": {},
   "outputs": [],
   "source": [
    "visualize_trajectory(meshcat,\n",
    "                     [linear_gcs_traj,prm_traj,sprm_traj],\n",
    "                     show_line = True,\n",
    "                     iiwa_ghosts = execute_task,\n",
    "                     alpha =  0.3,\n",
    "                     regions = [])\n"
   ]
  },
  {
   "cell_type": "code",
   "execution_count": null,
   "metadata": {},
   "outputs": [],
   "source": [
    "with open (\"GCS_PRM10k_comparison.html\", \"w\") as f:\n",
    "    f.write(meshcat.StaticHtml())"
   ]
  },
  {
   "cell_type": "markdown",
   "metadata": {},
   "source": [
    "## Comparison Table for Paper\n"
   ]
  },
  {
   "cell_type": "code",
   "execution_count": null,
   "metadata": {},
   "outputs": [],
   "source": [
    "ChangeOmpNumThreadsWrapper(1)"
   ]
  },
  {
   "cell_type": "code",
   "execution_count": null,
   "metadata": {},
   "outputs": [],
   "source": [
    "tasks_for_paper = {\"AS->TS\": task_1,\n",
    "                    \"TS->CS\": task_2,\n",
    "                    \"BS->LB\": task_3,\n",
    "                    \"LB->RB\": task_4,\n",
    "                    \"RB->TS\": task_5}\n",
    "                    \n",
    "\n",
    "gcs_data = {task: {\"Path Length (rad)\": [], \"Time (ms)\": []} for task, _ in tasks_for_paper.items()}\n",
    "prm_data = {task: {\"Path Length (rad)\": [], \"Time (ms)\": []} for task, _ in tasks_for_paper.items()}\n",
    "sprm_data = {task: {\"Path Length (rad)\": [], \"Time (ms)\": []} for task, _ in tasks_for_paper.items()}\n",
    "\n",
    "N = 5 # We ran this 100 in the paper \n",
    "for _ in range(N):\n",
    "    for task_name, task in tasks_for_paper.items():\n",
    "        traj, runtime = getGCSPath(task)[:2]\n",
    "        traj_len = get_traj_length(make_traj(traj))\n",
    "        gcs_data[task_name][\"Path Length (rad)\"].append(traj_len)\n",
    "        gcs_data[task_name][\"Time (ms)\"].append(runtime*1000)\n",
    "\n",
    "        traj, runtime = prm.plan(task, query_parameters)\n",
    "        traj_len = get_traj_length(make_traj(traj))\n",
    "        prm_data[task_name][\"Path Length (rad)\"].append(traj_len)\n",
    "        prm_data[task_name][\"Time (ms)\"].append(runtime*1000)\n",
    "\n",
    "\n",
    "        traj, runtime = prm.plan(task, query_parameters, postprocessing_parameters)\n",
    "        traj_len = get_traj_length(make_traj(traj))\n",
    "        sprm_data[task_name][\"Path Length (rad)\"].append(traj_len)\n",
    "        sprm_data[task_name][\"Time (ms)\"].append(runtime*1000)"
   ]
  },
  {
   "cell_type": "code",
   "execution_count": null,
   "metadata": {},
   "outputs": [],
   "source": [
    "plot_results(gcs_data, prm_data, sprm_data)"
   ]
  },
  {
   "cell_type": "code",
   "execution_count": null,
   "metadata": {},
   "outputs": [],
   "source": [
    "make_result_table(gcs_data, prm_data, sprm_data).round(2)"
   ]
  },
  {
   "attachments": {},
   "cell_type": "markdown",
   "metadata": {},
   "source": [
    "## Random Configurations"
   ]
  },
  {
   "cell_type": "code",
   "execution_count": null,
   "metadata": {},
   "outputs": [],
   "source": [
    "def sample_demonstration_configurations():\n",
    "    shelve_y_bounds = (-0.12, 0.12)\n",
    "    shelve_x_bounds = (-0.02, 0.02)\n",
    "    shelve_z_bounds = (-0.01, 0.01)\n",
    "\n",
    "    bin_x_bounds = (0.08, -0.08)\n",
    "    bin_y_bounds = (0.02, -0.02)\n",
    "    bin_z_bounds = (0.01, -0.01)\n",
    "\n",
    "    random_demo = {\n",
    "        \"AS\": [[\n",
    "            0.75 + np.random.uniform(*shelve_x_bounds),\n",
    "            np.random.uniform(*shelve_y_bounds),\n",
    "            0.9 + np.random.uniform(*shelve_z_bounds)\n",
    "        ], [0, -np.pi, -np.pi / 2]],\n",
    "        \"TS\": [[\n",
    "            0.75 + np.random.uniform(*shelve_x_bounds),\n",
    "            np.random.uniform(*shelve_y_bounds),\n",
    "            0.67 + np.random.uniform(*shelve_z_bounds)\n",
    "        ], [0, -np.pi, -np.pi / 2]],\n",
    "        \"CS\": [[\n",
    "            0.75 + np.random.uniform(*shelve_x_bounds),\n",
    "            np.random.uniform(*shelve_y_bounds),\n",
    "            0.41 + np.random.uniform(*shelve_z_bounds)\n",
    "        ], [0, -np.pi, -np.pi / 2]],\n",
    "        \"LB\": [[\n",
    "            np.random.uniform(*bin_x_bounds),\n",
    "            0.6 + np.random.uniform(*bin_y_bounds),\n",
    "            0.22 + np.random.uniform(*bin_z_bounds)\n",
    "        ], [np.pi / 2, np.pi, 0]],\n",
    "        \"RB\": [[\n",
    "            np.random.uniform(*bin_x_bounds),\n",
    "            -0.6 + np.random.uniform(*bin_y_bounds),\n",
    "            0.22 + np.random.uniform(*bin_z_bounds)\n",
    "        ], [np.pi / 2, np.pi, np.pi]]\n",
    "    }\n",
    "    q0 = [0, 0.3, 0, -1.8, 0, 1, 1.57]\n",
    "    return {\n",
    "        name: InverseKinematics(q0, trans, rot)\n",
    "        for name, (trans, rot) in random_demo.items()\n",
    "    }"
   ]
  },
  {
   "cell_type": "code",
   "execution_count": null,
   "metadata": {},
   "outputs": [],
   "source": [
    "random_gcs_data = {task: {\"Path Length (rad)\": [], \"Time (ms)\": []} for task, _ in tasks_for_paper.items()}\n",
    "random_prm_data = {task: {\"Path Length (rad)\": [], \"Time (ms)\": []} for task, _ in tasks_for_paper.items()}\n",
    "random_sprm_data = {task: {\"Path Length (rad)\": [], \"Time (ms)\": []} for task, _ in tasks_for_paper.items()}\n",
    "\n",
    "N = 1000\n",
    "gcs_failed = 0\n",
    "prm_failed = 0\n",
    "sprm_failed = 0\n",
    "for _ in range(N):\n",
    "    random_configuration = sample_demonstration_configurations()\n",
    "    random_task_1 = [random_configuration[\"AS\"],\n",
    "          random_configuration[\"TS\"]]\n",
    "\n",
    "    random_task_2 = [random_configuration[\"TS\"],\n",
    "            random_configuration[\"CS\"]]\n",
    "\n",
    "    random_task_3 = [random_configuration[\"CS\"],\n",
    "            random_configuration[\"LB\"]]\n",
    "\n",
    "    random_task_4 = [random_configuration[\"LB\"],\n",
    "            random_configuration[\"RB\"]]\n",
    "\n",
    "    random_task_5 = [random_configuration[\"RB\"],\n",
    "            random_configuration[\"AS\"]]\n",
    "\n",
    "    random_tasks = {\"AS->TS\": random_task_1,\n",
    "                    \"TS->CS\": random_task_2,\n",
    "                    \"BS->LB\": random_task_3,\n",
    "                    \"LB->RB\": random_task_4,\n",
    "                    \"RB->TS\": random_task_5}\n",
    "\n",
    "    for task_name, task in random_tasks.items():\n",
    "        try:\n",
    "          traj, runtime = getGCSPath(task)[:2]\n",
    "          traj_len = get_traj_length(make_traj(traj))\n",
    "          random_gcs_data[task_name][\"Path Length (rad)\"].append(traj_len)\n",
    "          random_gcs_data[task_name][\"Time (ms)\"].append(runtime*1000)\n",
    "        except:\n",
    "          gcs_failed += 1\n",
    "\n",
    "        try:\n",
    "          traj, runtime = prm.plan(task, query_parameters)\n",
    "          traj_len = get_traj_length(make_traj(traj))\n",
    "          random_prm_data[task_name][\"Path Length (rad)\"].append(traj_len)\n",
    "          random_prm_data[task_name][\"Time (ms)\"].append(runtime*1000)\n",
    "        except:\n",
    "          prm_failed += 1\n",
    "\n",
    "        try:\n",
    "          traj, runtime = prm.plan(task, query_parameters, postprocessing_parameters)\n",
    "          traj_len = get_traj_length(make_traj(traj))\n",
    "          random_sprm_data[task_name][\"Path Length (rad)\"].append(traj_len)\n",
    "          random_sprm_data[task_name][\"Time (ms)\"].append(runtime*1000)\n",
    "        except:\n",
    "          sprm_failed += 1\n"
   ]
  },
  {
   "cell_type": "code",
   "execution_count": null,
   "metadata": {},
   "outputs": [],
   "source": [
    "print(f\"GCS failed {gcs_failed} times\")\n",
    "print(f\"PRM failed {prm_failed} times\")\n",
    "print(f\"SPRM failed {sprm_failed} times\")"
   ]
  },
  {
   "cell_type": "code",
   "execution_count": null,
   "metadata": {},
   "outputs": [],
   "source": [
    "plot_results(random_gcs_data, random_prm_data, random_sprm_data)"
   ]
  },
  {
   "cell_type": "code",
   "execution_count": null,
   "metadata": {},
   "outputs": [],
   "source": [
    "make_result_table(random_gcs_data, random_prm_data, random_sprm_data)"
   ]
  },
  {
   "cell_type": "markdown",
   "metadata": {},
   "source": [
    "## Debug\n",
    "When playing with the demonstration points, use this to understand where PRM fails and where the regions to include the configurations"
   ]
  },
  {
   "cell_type": "code",
   "execution_count": null,
   "metadata": {},
   "outputs": [],
   "source": [
    "for k,v in {name: InverseKinematics(q0, trans, rot) for name, (trans, rot) in demonstration.items()}.items():\n",
    "    print(k, regions[k].PointInSet(v), not prm.getPath([q0, v]) is None)"
   ]
  },
  {
   "cell_type": "code",
   "execution_count": null,
   "metadata": {},
   "outputs": [],
   "source": [
    "execute_task = task_1\n",
    "GCS_path, GCS_time, relaxed_results = getGCSPath(execute_task, verbose = True)\n",
    "\n",
    "def extractEdgeFlows(gcs):\n",
    "    return {e.name(): gcs.relaxed_result.GetSolution(e.phi()) for e in gcs.gcs.Edges()}\n",
    "gcs = LinearGCS(regions.copy())\n",
    "gcs.addSourceTarget(execute_task[0], execute_task[1])\n",
    "gcs.setRoundingStrategy(randomForwardPathSearch, max_paths = 10, max_trials = 100, seed = SEED)\n",
    "gcs.setSolver(MosekSolver())\n",
    "start_time = time.time()\n",
    "waypoints, results_dict = gcs.SolvePath(rounding=True, verbose=False, preprocessing=True)\n",
    "task = extractEdgeFlows(gcs)\n",
    "\n",
    "task = {(k.split(', ')[0][1:],k.split(', ')[1][:-1]): v  for k,v in task.items()}\n",
    "task = {k: v for k,v in task.items() if not 'source' in k and not 'target' in k}\n",
    "task"
   ]
  },
  {
   "cell_type": "code",
   "execution_count": null,
   "metadata": {},
   "outputs": [],
   "source": []
  }
 ],
 "metadata": {
  "kernelspec": {
   "display_name": "Python 3",
   "language": "python",
   "name": "python3"
  },
  "language_info": {
   "codemirror_mode": {
    "name": "ipython",
    "version": 3
   },
   "file_extension": ".py",
   "mimetype": "text/x-python",
   "name": "python",
   "nbconvert_exporter": "python",
   "pygments_lexer": "ipython3",
   "version": "3.10.6"
  },
  "vscode": {
   "interpreter": {
    "hash": "e7370f93d1d0cde622a1f8e1c04877d8463912d04d973331ad4851f04de6915a"
   }
  }
 },
 "nbformat": 4,
 "nbformat_minor": 2
}
