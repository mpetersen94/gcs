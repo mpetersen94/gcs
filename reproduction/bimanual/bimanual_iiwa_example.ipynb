{
 "cells": [
  {
   "cell_type": "code",
   "execution_count": null,
   "metadata": {},
   "outputs": [],
   "source": [
    "%load_ext autoreload\n",
    "%autoreload 2\n",
    "\n",
    "import os\n",
    "import time\n",
    "import pickle\n",
    "import numpy as np\n",
    "import multiprocessing as mp\n",
    "from IPython.display import display, Image, SVG\n",
    "\n",
    "from pydrake.geometry import MeshcatVisualizer, MeshcatVisualizerParams, Role, StartMeshcat\n",
    "from pydrake.geometry.optimization import (\n",
    "    HPolyhedron,\n",
    "    Hyperellipsoid,\n",
    "    IrisInConfigurationSpace,\n",
    "    IrisOptions\n",
    ")\n",
    "from pydrake.multibody.parsing import LoadModelDirectives, Parser, ProcessModelDirectives\n",
    "from pydrake.multibody.plant import AddMultibodyPlantSceneGraph\n",
    "from pydrake.multibody.tree import RevoluteJoint\n",
    "from pydrake.solvers import GurobiSolver, MosekSolver\n",
    "from pydrake.systems.framework import DiagramBuilder\n",
    "\n",
    "from gcs.linear import LinearGCS\n",
    "from reproduction.bimanual.helpers import *\n",
    "from reproduction.util import *\n",
    "\n",
    "GurobiSolver.AcquireLicense()\n",
    "MosekSolver.AcquireLicense()"
   ]
  },
  {
   "cell_type": "code",
   "execution_count": null,
   "metadata": {},
   "outputs": [],
   "source": [
    "# Start the visualizer (run this cell only once, each instance consumes a port)\n",
    "meshcat = StartMeshcat()"
   ]
  },
  {
   "cell_type": "code",
   "execution_count": null,
   "metadata": {},
   "outputs": [],
   "source": [
    "builder = DiagramBuilder()\n",
    "plant, scene_graph = AddMultibodyPlantSceneGraph(builder, time_step=0.0)\n",
    "parser = Parser(plant)\n",
    "parser.package_map().Add(\"gcs\", GcsDir())\n",
    "\n",
    "directives_file = FindModelFile(\"models/bimanual_iiwa.yaml\")\n",
    "directives = LoadModelDirectives(directives_file)\n",
    "models = ProcessModelDirectives(directives, plant, parser)\n",
    "[iiwa_1, wsg_1, iiwa_2, wsg_2, shelf, bin_1, bin_2, table] = models\n",
    "\n",
    "\n",
    "plant.Finalize()\n",
    "\n",
    "meshcat_params = MeshcatVisualizerParams()\n",
    "meshcat_params.delete_on_initialization_event = False\n",
    "meshcat_params.role = Role.kIllustration\n",
    "# meshcat_params.role = Role.kProximity\n",
    "meshcat_cpp = MeshcatVisualizer.AddToBuilder(builder, scene_graph, meshcat, meshcat_params)\n",
    "\n",
    "diagram = builder.Build()\n",
    "\n",
    "q0 = [0.0, -0.2, 0, -1.2, 0, 1.6, 0.0]\n",
    "index = 0\n",
    "for joint_index in plant.GetJointIndices(iiwa_1.model_instance):\n",
    "    joint = plant.get_mutable_joint(joint_index)\n",
    "    if isinstance(joint, RevoluteJoint):\n",
    "        joint.set_default_angle(q0[index])\n",
    "        index += 1\n",
    "index = 0\n",
    "for joint_index in plant.GetJointIndices(iiwa_2.model_instance):\n",
    "    joint = plant.get_mutable_joint(joint_index)\n",
    "    if isinstance(joint, RevoluteJoint):\n",
    "        joint.set_default_angle(q0[index])\n",
    "        index += 1\n",
    "        \n",
    "context = diagram.CreateDefaultContext()\n",
    "plant_context = plant.GetMyMutableContextFromRoot(context)\n",
    "sg_context = scene_graph.GetMyMutableContextFromRoot(context)\n",
    "diagram.ForcedPublish(context)"
   ]
  },
  {
   "cell_type": "code",
   "execution_count": null,
   "metadata": {},
   "outputs": [],
   "source": [
    "iris_options = IrisOptions()\n",
    "iris_options.require_sample_point_is_contained = True\n",
    "iris_options.iteration_limit = 5\n",
    "iris_options.termination_threshold = -1\n",
    "iris_options.relative_termination_threshold = 0.02\n",
    "CORE_CNT = int(mp.cpu_count()/2) # you may edit this\n",
    "\n",
    "filterCollsionGeometry(scene_graph, sg_context)\n",
    "\n",
    "seed_points = getConfigurationSeeds()"
   ]
  },
  {
   "cell_type": "code",
   "execution_count": null,
   "metadata": {},
   "outputs": [],
   "source": [
    "context_clones = [context.Clone() for _ in range(len(seed_points))]\n",
    "\n",
    "def calcRegion(ii, seed):\n",
    "    start_time = time.time()\n",
    "    context = context_clones[ii]\n",
    "    plant_context = plant.GetMyMutableContextFromRoot(context)\n",
    "    plant.SetPositions(plant_context, seed)\n",
    "    \n",
    "    hpoly = IrisInConfigurationSpace(plant, plant_context, iris_options)\n",
    "    print(\"Seed:\", ii, \"\\tTime:\", np.round((time.time() - start_time)/60., 4),\n",
    "          \"minutes.\\tFaces\", len(hpoly.b()), flush=True)\n",
    "    return hpoly\n",
    "\n",
    "def generateRegions(seed_points):\n",
    "    seeds = list(seed_points.values()) if type(seed_points) is dict else seed_points\n",
    "    regions = []\n",
    "    loop_time = time.time()\n",
    "    with mp.Pool(processes = CORE_CNT) as pool:\n",
    "        regions = pool.starmap(calcRegion, [[ii, seed] for ii, seed in enumerate(seeds)])\n",
    "\n",
    "    print(\"Loop time:\", time.time() - loop_time)\n",
    "    \n",
    "    if type(seed_points) is dict:\n",
    "        return dict(list(zip(seed_points.keys(), regions)))\n",
    "\n",
    "    return regions\n",
    "    \n",
    "# Takes approximately 30 minutes to generate on 10 cores (3 hours if run serially)\n",
    "regions = generateRegions(seed_points)\n",
    "\n",
    "with open(os.path.join(GcsDir(), 'data/bimanual/iris_regions.reg'), 'wb') as f:\n",
    "    pickle.dump(regions,f)"
   ]
  },
  {
   "cell_type": "code",
   "execution_count": null,
   "metadata": {},
   "outputs": [],
   "source": [
    "with open(os.path.join(GcsDir(), 'data/bimanual/iris_regions.reg'), 'rb') as f:\n",
    "    regions = pickle.load(f)"
   ]
  },
  {
   "cell_type": "code",
   "execution_count": null,
   "metadata": {},
   "outputs": [],
   "source": [
    "gcs = LinearGCS(regions)\n",
    "display(Image(gcs.VisualizeGraph(\"png\")))"
   ]
  },
  {
   "cell_type": "markdown",
   "metadata": {},
   "source": [
    "# Demonstration"
   ]
  },
  {
   "cell_type": "code",
   "execution_count": null,
   "metadata": {},
   "outputs": [],
   "source": [
    "demo = getDemoConfigurations()"
   ]
  },
  {
   "cell_type": "code",
   "execution_count": null,
   "metadata": {},
   "outputs": [],
   "source": [
    "trajectories, run_time = getBezierGcsPath(plant, regions, demo, 3, 1)\n",
    "print(\"Trajectory generation took\", np.round(run_time, 4), \"seconds of optimizer time.\")\n",
    "visualize_trajectory(trajectories, meshcat)\n",
    "\n",
    "with open (os.path.join(GcsDir(), \"data/bimanual/bezier_trajectory.html\"), \"w\") as f:\n",
    "   f.write(meshcat.StaticHtml())"
   ]
  },
  {
   "cell_type": "code",
   "execution_count": null,
   "metadata": {},
   "outputs": [],
   "source": [
    "generate_segment_pics(trajectories, 0, meshcat)"
   ]
  },
  {
   "cell_type": "code",
   "execution_count": null,
   "metadata": {},
   "outputs": [],
   "source": [
    "generate_segment_pics(trajectories, 1, meshcat)"
   ]
  },
  {
   "cell_type": "code",
   "execution_count": null,
   "metadata": {},
   "outputs": [],
   "source": [
    "generate_segment_pics(trajectories, 2, meshcat)"
   ]
  },
  {
   "cell_type": "markdown",
   "metadata": {},
   "source": [
    "# Blender Visualizations"
   ]
  },
  {
   "cell_type": "code",
   "execution_count": null,
   "metadata": {},
   "outputs": [],
   "source": [
    "trajectories, run_time = getBezierGcsPath(plant, regions, demo, 3, 1)"
   ]
  },
  {
   "cell_type": "code",
   "execution_count": null,
   "metadata": {},
   "outputs": [],
   "source": [
    "cam_quat_base = RollPitchYaw(\n",
    "    20.*np.pi/180.,\n",
    "    0.*np.pi/180,\n",
    "    -90*np.pi/180.).ToQuaternion()\n",
    "cam_trans_base = np.array([-0.1, 0.25, 1.5])\n",
    "cameraX = RigidTransform(quaternion=cam_quat_base,\n",
    "                        p=cam_trans_base)\n",
    "\n",
    "render_trajectory(trajectories[0], cameraX, alpha = 0.4)"
   ]
  },
  {
   "cell_type": "code",
   "execution_count": null,
   "metadata": {},
   "outputs": [],
   "source": [
    "cam_quat_base = RollPitchYaw(\n",
    "    63.*np.pi/180.,\n",
    "    0.*np.pi/180,\n",
    "    -165*np.pi/180.).ToQuaternion()\n",
    "cam_trans_base = np.array([0.12, 1.2, 1.05])\n",
    "cameraX = RigidTransform(quaternion=cam_quat_base,\n",
    "                        p=cam_trans_base)\n",
    "\n",
    "render_trajectory(trajectories[1], cameraX, alpha = 0.4)"
   ]
  },
  {
   "cell_type": "code",
   "execution_count": null,
   "metadata": {},
   "outputs": [],
   "source": [
    "cam_quat_base = RollPitchYaw(\n",
    "    55.*np.pi/180.,\n",
    "    0.*np.pi/180,\n",
    "    -90*np.pi/180.).ToQuaternion()\n",
    "cam_trans_base = np.array([-1.3, 0.25, 1.2])\n",
    "cameraX = RigidTransform(quaternion=cam_quat_base,\n",
    "                        p=cam_trans_base)\n",
    "\n",
    "render_trajectory(trajectories[2], cameraX, alpha = 0.4)"
   ]
  },
  {
   "cell_type": "code",
   "execution_count": null,
   "metadata": {},
   "outputs": [],
   "source": []
  }
 ],
 "metadata": {
  "kernelspec": {
   "display_name": "Python 3",
   "language": "python",
   "name": "python3"
  },
  "language_info": {
   "codemirror_mode": {
    "name": "ipython",
    "version": 3
   },
   "file_extension": ".py",
   "mimetype": "text/x-python",
   "name": "python",
   "nbconvert_exporter": "python",
   "pygments_lexer": "ipython3",
   "version": "3.8.10"
  }
 },
 "nbformat": 4,
 "nbformat_minor": 2
}
